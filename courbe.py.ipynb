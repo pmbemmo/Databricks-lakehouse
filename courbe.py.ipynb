{
 "cells": [
  {
   "cell_type": "markdown",
   "metadata": {
    "application/vnd.databricks.v1+cell": {
     "cellMetadata": {
      "byteLimit": 2048000,
      "rowLimit": 10000
     },
     "inputWidgets": {},
     "nuid": "f00a9de5-b519-48b0-926e-27662469c76b",
     "showTitle": false,
     "tableResultSettingsMap": {},
     "title": ""
    }
   },
   "source": [
    "**Tracage d'une courbe en `Phyton`**"
   ]
  },
  {
   "cell_type": "code",
   "execution_count": 0,
   "metadata": {
    "application/vnd.databricks.v1+cell": {
     "cellMetadata": {
      "byteLimit": 2048000,
      "rowLimit": 10000
     },
     "inputWidgets": {},
     "nuid": "0af81ce2-0335-40aa-b7c8-6d486ac54c24",
     "showTitle": false,
     "tableResultSettingsMap": {},
     "title": ""
    }
   },
   "outputs": [],
   "source": [
    "import plotly.graph_objects as go\n",
    "import numpy as np\n",
    "\n",
    "x = np.linspace(0, 1, 1000)\n",
    "\n",
    "f = np.linspace(1, 16, 31)\n",
    "\n",
    "fig = go.Figure()\n",
    "\n",
    "# Add invisible traces, one for each slider step\n",
    "for i, fi in enumerate(f):\n",
    "    fig.add_trace(go.Scatter(visible=False, x=x, y=np.sin(2*np.pi*fi*x), name=f\"f={fi}\"))\n",
    "\n",
    "# Make first trace visible\n",
    "fig.data[0].visible = True\n",
    "\n",
    "# Create and add slider\n",
    "steps = []\n",
    "for i, fi in enumerate(f):\n",
    "    step = dict(method=\"update\", label = f\"{fi}\", args=[{\"visible\": [(el==i) for el in range(f.size)]}])\n",
    "    steps.append(step)\n",
    "    \n",
    "sliders = [dict(currentvalue={'prefix': 'Frequency  f = '}, steps=steps)]\n",
    "\n",
    "fig.update_layout(sliders=sliders, title = 'f(x) = sin(2 pi f x)', height=500)\n",
    "fig.show()"
   ]
  },
  {
   "cell_type": "code",
   "execution_count": 0,
   "metadata": {
    "application/vnd.databricks.v1+cell": {
     "cellMetadata": {
      "byteLimit": 2048000,
      "rowLimit": 10000
     },
     "inputWidgets": {},
     "nuid": "c527bc47-2032-46f5-83ca-af4f04b08455",
     "showTitle": false,
     "tableResultSettingsMap": {},
     "title": ""
    }
   },
   "outputs": [],
   "source": []
  }
 ],
 "metadata": {
  "application/vnd.databricks.v1+notebook": {
   "computePreferences": null,
   "dashboards": [],
   "environmentMetadata": {
    "base_environment": "",
    "environment_version": "2"
   },
   "language": "python",
   "notebookMetadata": {
    "pythonIndentUnit": 4
   },
   "notebookName": "courbe.py",
   "widgets": {}
  },
  "language_info": {
   "name": "python"
  }
 },
 "nbformat": 4,
 "nbformat_minor": 0
}
