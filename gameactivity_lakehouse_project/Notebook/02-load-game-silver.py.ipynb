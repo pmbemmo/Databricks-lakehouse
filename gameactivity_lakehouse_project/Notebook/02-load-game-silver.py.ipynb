{
 "cells": [
  {
   "cell_type": "code",
   "execution_count": 0,
   "metadata": {
    "application/vnd.databricks.v1+cell": {
     "cellMetadata": {
      "byteLimit": 2048000,
      "rowLimit": 10000
     },
     "inputWidgets": {},
     "nuid": "d6540596-30a0-48c6-8404-8838c7653141",
     "showTitle": false,
     "tableResultSettingsMap": {},
     "title": ""
    }
   },
   "outputs": [],
   "source": [
    "from pyspark.sql.functions import monotonically_increasing_id, current_timestamp, when, col\n",
    "\n",
    "# Load source table\n",
    "df = spark.table(\"dev_catalog.bronze.game\")\n",
    "\n",
    "# Deduplicate\n",
    "df = df.dropDuplicates()\n",
    "\n",
    "# Replace null values\n",
    "df = df.fillna({'Publisher': 'N/A', 'Genre': 'N/A', 'Game_Length': 0, 'source_file': 'unknown'})\n",
    "\n",
    "# Cleaning and normalizing data\n",
    "df = df.withColumn(\"Rating\", \n",
    "                   when(col(\"Rating\") == \"E\", \"Everyone\")\n",
    "                    .when(col(\"Rating\") == \"E10+\", \"Everyone 10 and older\")\n",
    "                    .when(col(\"Rating\") == \"T\", \"Teen\")\n",
    "                    .when(col(\"Rating\") == \"M\", \"Mature\")\n",
    "                    .when(col(\"Rating\") == \"RP\", \"Rating Pending\")\n",
    "                    .otherwise(\"NoRating\"))\n",
    "\n",
    "# Add insert and update date fields\n",
    "df = df.withColumnRenamed(\"dt_insert\", \"insert_date\").withColumn(\"update_date\", current_timestamp())\n",
    "\n",
    "# Create target table if it does not exist and upsert game data based on the gameid field\n",
    "df.createOrReplaceTempView(\"temp_view\")\n",
    "\n",
    "merge_query = \"\"\"\n",
    "MERGE INTO dev_catalog.silver.game AS target\n",
    "USING temp_view AS source\n",
    "ON target.GameID = source.GameID\n",
    "WHEN MATCHED THEN\n",
    "  UPDATE SET target.GameID = source.GameID,\n",
    "             target.Publisher = source.Publisher,\n",
    "             target.Genre = source.Genre,\n",
    "             target.Game_Length = source.Game_Length,\n",
    "             target.Rating = source.Rating,\n",
    "             target.update_date = source.update_date,\n",
    "             target.source_file = source.source_file\n",
    "WHEN NOT MATCHED THEN\n",
    "  INSERT (GameID, Publisher, Genre, Game_Length, Rating, insert_date, update_date, source_file)\n",
    "  VALUES (source.GameID, source.Publisher, source.Genre, source.Game_Length, source.Rating, source.insert_date, source.update_date, source.source_file)\n",
    "\"\"\"\n",
    "\n",
    "spark.sql(merge_query)\n",
    "\n",
    "#display(df)"
   ]
  }
 ],
 "metadata": {
  "application/vnd.databricks.v1+notebook": {
   "computePreferences": null,
   "dashboards": [],
   "environmentMetadata": {
    "base_environment": "",
    "environment_version": "2"
   },
   "inputWidgetPreferences": null,
   "language": "python",
   "notebookMetadata": {
    "pythonIndentUnit": 4
   },
   "notebookName": "02-load-game-silver.py",
   "widgets": {}
  },
  "language_info": {
   "name": "python"
  }
 },
 "nbformat": 4,
 "nbformat_minor": 0
}
