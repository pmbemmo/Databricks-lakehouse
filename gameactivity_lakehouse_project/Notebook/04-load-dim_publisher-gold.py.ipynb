{
 "cells": [
  {
   "cell_type": "code",
   "execution_count": 0,
   "metadata": {
    "application/vnd.databricks.v1+cell": {
     "cellMetadata": {
      "byteLimit": 2048000,
      "rowLimit": 10000
     },
     "inputWidgets": {},
     "nuid": "7699e2b1-8a6c-4129-aa06-6a30738705ad",
     "showTitle": false,
     "tableResultSettingsMap": {},
     "title": ""
    }
   },
   "outputs": [],
   "source": [
    "from pyspark.sql.functions import current_date\n",
    "\n",
    "# Load the game table into a DataFrame\n",
    "game_df = spark.table(\"dev_catalog.silver.game\")\n",
    "\n",
    "# Select distinct publishers from the game table\n",
    "dim_publisher_df = game_df.select(\"Publisher\").distinct()\n",
    "\n",
    "# Add insert_date and update_date columns\n",
    "dim_publisher_df = dim_publisher_df.withColumn(\"insert_date\", current_date())\n",
    "dim_publisher_df = dim_publisher_df.withColumn(\"update_date\", current_date())\n",
    "\n",
    "# Create or merge into the dim_publisher table\n",
    "dim_publisher_df.createOrReplaceTempView(\"temp_dim_publisher\")\n",
    "\n",
    "merge_query = \"\"\"\n",
    "MERGE INTO dev_catalog.gold.dim_publisher AS target\n",
    "USING temp_dim_publisher AS source\n",
    "  ON target.publisher = source.publisher\n",
    "WHEN MATCHED THEN\n",
    "  UPDATE SET \n",
    "             target.update_date = current_date()\n",
    "WHEN NOT MATCHED THEN\n",
    "  INSERT ( publisher, insert_date, update_date)\n",
    "  VALUES ( source.publisher, source.insert_date, source.update_date)\n",
    "\"\"\"\n",
    "\n",
    "spark.sql(merge_query)\n",
    "\n",
    "# Display the dim_publisher table\n",
    "#display(spark.table(\"dev_catalog.gold.dim_publisher\"))"
   ]
  }
 ],
 "metadata": {
  "application/vnd.databricks.v1+notebook": {
   "computePreferences": null,
   "dashboards": [],
   "environmentMetadata": {
    "base_environment": "",
    "environment_version": "2"
   },
   "inputWidgetPreferences": null,
   "language": "python",
   "notebookMetadata": {
    "pythonIndentUnit": 4
   },
   "notebookName": "04-load-dim_publisher-gold.py",
   "widgets": {}
  },
  "language_info": {
   "name": "python"
  }
 },
 "nbformat": 4,
 "nbformat_minor": 0
}
