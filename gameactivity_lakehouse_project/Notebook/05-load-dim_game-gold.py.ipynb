{
 "cells": [
  {
   "cell_type": "code",
   "execution_count": 0,
   "metadata": {
    "application/vnd.databricks.v1+cell": {
     "cellMetadata": {
      "byteLimit": 2048000,
      "rowLimit": 10000
     },
     "inputWidgets": {},
     "nuid": "38c495ae-71ef-4523-916d-5755c6d1e4de",
     "showTitle": false,
     "tableResultSettingsMap": {},
     "title": ""
    }
   },
   "outputs": [],
   "source": [
    "from pyspark.sql.functions import current_date\n",
    "\n",
    "# Load the distinct games with all attributes from the source table\n",
    "games_df = spark.sql(\"\"\"\n",
    "    SELECT DISTINCT GameID, Publisher, Genre, Rating, Game_length\n",
    "    FROM dev_catalog.silver.game\n",
    "\"\"\")\n",
    "\n",
    "# Load the publisher dimension table\n",
    "publishers_df = spark.sql(\"\"\"\n",
    "    SELECT Publisher as Publisher_src, sk_id as sk_id_publisher\n",
    "    FROM dev_catalog.gold.dim_publisher\n",
    "\"\"\") \n",
    "\n",
    "# Join the games with the publisher dimension table on the foreign key sk_id_publisher\n",
    "dim_game_df = games_df.join(publishers_df, games_df.Publisher == publishers_df.Publisher_src, \"inner\") \\\n",
    "                      .withColumn(\"insert_date\", current_date()) \\\n",
    "                      .withColumn(\"update_date\", current_date()) \\\n",
    "                      .drop(\"Publisher_src\")\\\n",
    "                      .drop(\"Publisher\")\n",
    "\n",
    "# Save the resulting dimension table into dev_catalog.gold.dim_game with merge based on GameID\n",
    "dim_game_df.createOrReplaceTempView(\"dim_game_temp\")\n",
    "\n",
    "merge_query = \"\"\"\n",
    "    MERGE INTO dev_catalog.gold.dim_game AS target\n",
    "    USING dim_game_temp AS source\n",
    "    ON target.GameID = source.GameID\n",
    "    WHEN MATCHED THEN\n",
    "        UPDATE SET \n",
    "            target.GameID = source.GameID,\n",
    "            target.SK_ID_Publisher = source.sk_id_publisher,\n",
    "            target.Genre = source.Genre,\n",
    "            target.Rating = source.Rating,\n",
    "            target.Game_length = source.Game_length,\n",
    "            target.update_date = source.update_date\n",
    "    WHEN NOT MATCHED THEN\n",
    "        INSERT (GameID, SK_ID_Publisher, Genre, Rating, Game_length, insert_date, update_date)\n",
    "        VALUES (source.GameID, source.sk_id_publisher, source.Genre, source.Rating, source.Game_length, source.insert_date, source.update_date)\n",
    "\"\"\"\n",
    "\n",
    "spark.sql(merge_query)\n",
    "\n",
    "# Display the resulting dimension table\n",
    "#display(dim_game_df)"
   ]
  }
 ],
 "metadata": {
  "application/vnd.databricks.v1+notebook": {
   "computePreferences": null,
   "dashboards": [],
   "environmentMetadata": {
    "base_environment": "",
    "environment_version": "2"
   },
   "inputWidgetPreferences": null,
   "language": "python",
   "notebookMetadata": {
    "pythonIndentUnit": 4
   },
   "notebookName": "05-load-dim_game-gold.py",
   "widgets": {}
  },
  "language_info": {
   "name": "python"
  }
 },
 "nbformat": 4,
 "nbformat_minor": 0
}
