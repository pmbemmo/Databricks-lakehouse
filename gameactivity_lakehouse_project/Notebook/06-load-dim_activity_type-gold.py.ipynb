{
 "cells": [
  {
   "cell_type": "code",
   "execution_count": 0,
   "metadata": {
    "application/vnd.databricks.v1+cell": {
     "cellMetadata": {
      "byteLimit": 2048000,
      "rowLimit": 10000
     },
     "inputWidgets": {},
     "nuid": "f0a573f3-8892-4555-916a-df55661ad603",
     "showTitle": false,
     "tableResultSettingsMap": {},
     "title": ""
    }
   },
   "outputs": [],
   "source": [
    "from pyspark.sql.functions import current_timestamp\n",
    "\n",
    "# Load the source table\n",
    "player_activity_df = spark.table(\"dev_catalog.silver.player_activity\")\n",
    "\n",
    "# Select distinct activity types and add insert_date and update_date\n",
    "dim_activity_type_df = player_activity_df.select(\"Activity_type\").distinct() \\\n",
    "    .withColumn(\"insert_date\", current_timestamp()) \\\n",
    "    .withColumn(\"update_date\", current_timestamp())\n",
    "\n",
    "# Create a temporary view for the dimension table\n",
    "dim_activity_type_df.createOrReplaceTempView(\"temp_dim_activity_type\")\n",
    "\n",
    "# Merge the data into the target table\n",
    "merge = (\"\"\"\n",
    "    MERGE INTO dev_catalog.gold.dim_activity_type AS target\n",
    "    USING temp_dim_activity_type AS source\n",
    "    ON target.Activity_type = source.Activity_type\n",
    "    WHEN MATCHED THEN\n",
    "        UPDATE SET target.update_date = source.update_date\n",
    "    WHEN NOT MATCHED THEN\n",
    "        INSERT (Activity_type, insert_date, update_date)\n",
    "        VALUES (source.Activity_type, source.insert_date, source.update_date)\n",
    "\"\"\")\n",
    "\n",
    "spark.sql(merge)\n",
    "\n",
    "# Display the dimension table\n",
    "#display(spark.table(\"dev_catalog.gold.dim_activity_type\"))"
   ]
  }
 ],
 "metadata": {
  "application/vnd.databricks.v1+notebook": {
   "computePreferences": null,
   "dashboards": [],
   "environmentMetadata": {
    "base_environment": "",
    "environment_version": "2"
   },
   "inputWidgetPreferences": null,
   "language": "python",
   "notebookMetadata": {
    "pythonIndentUnit": 4
   },
   "notebookName": "06-load-dim_activity_type-gold.py",
   "widgets": {}
  },
  "language_info": {
   "name": "python"
  }
 },
 "nbformat": 4,
 "nbformat_minor": 0
}
