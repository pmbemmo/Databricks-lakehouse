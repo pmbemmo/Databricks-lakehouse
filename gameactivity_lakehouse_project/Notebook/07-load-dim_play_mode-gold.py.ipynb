{
 "cells": [
  {
   "cell_type": "code",
   "execution_count": 0,
   "metadata": {
    "application/vnd.databricks.v1+cell": {
     "cellMetadata": {
      "byteLimit": 2048000,
      "rowLimit": 10000
     },
     "inputWidgets": {},
     "nuid": "3f4eae38-8969-4f2f-bf0b-ea01fd763bf9",
     "showTitle": false,
     "tableResultSettingsMap": {},
     "title": ""
    }
   },
   "outputs": [],
   "source": [
    "from pyspark.sql.functions import current_timestamp\n",
    "\n",
    "# Load the source data\n",
    "player_activity_df = spark.table(\"dev_catalog.silver.player_activity\")\n",
    "\n",
    "# Select the required field and add insert_date and update_date\n",
    "dim_play_mode_df = player_activity_df.select(\"PlayMode\") \\\n",
    "                                     .distinct() \\\n",
    "                                     .withColumn(\"insert_date\", current_timestamp()) \\\n",
    "                                     .withColumn(\"update_date\", current_timestamp())\n",
    "\n",
    "# Merge the dimension table into the gold catalog\n",
    "dim_play_mode_df.createOrReplaceTempView(\"dim_play_mode_temp\")\n",
    "\n",
    "query = (\"\"\"\n",
    "MERGE INTO dev_catalog.gold.dim_play_mode AS target\n",
    "USING dim_play_mode_temp AS source\n",
    "ON target.PlayMode = source.PlayMode\n",
    "WHEN MATCHED THEN\n",
    "  UPDATE SET target.update_date = source.update_date\n",
    "WHEN NOT MATCHED THEN\n",
    "  INSERT (PlayMode, insert_date, update_date)\n",
    "  VALUES (source.PlayMode, source.insert_date, source.update_date)\n",
    "\"\"\")\n",
    "\n",
    "spark.sql(query)\n",
    "\n",
    "# Display the dimension table\n",
    "#display(spark.table(\"dev_catalog.gold.dim_play_mode\"))"
   ]
  }
 ],
 "metadata": {
  "application/vnd.databricks.v1+notebook": {
   "computePreferences": null,
   "dashboards": [],
   "environmentMetadata": {
    "base_environment": "",
    "environment_version": "2"
   },
   "inputWidgetPreferences": null,
   "language": "python",
   "notebookMetadata": {
    "pythonIndentUnit": 4
   },
   "notebookName": "07-load-dim_play_mode-gold.py",
   "widgets": {}
  },
  "language_info": {
   "name": "python"
  }
 },
 "nbformat": 4,
 "nbformat_minor": 0
}
