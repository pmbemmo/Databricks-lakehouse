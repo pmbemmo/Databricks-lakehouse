{
 "cells": [
  {
   "cell_type": "code",
   "execution_count": 0,
   "metadata": {
    "application/vnd.databricks.v1+cell": {
     "cellMetadata": {
      "byteLimit": 2048000,
      "rowLimit": 10000
     },
     "inputWidgets": {},
     "nuid": "e8d8b0d4-0c6d-44ab-9c30-c1f675ec2ec3",
     "showTitle": false,
     "tableResultSettingsMap": {},
     "title": ""
    }
   },
   "outputs": [],
   "source": [
    "from pyspark.sql.functions import current_date\n",
    "\n",
    "# Load source table\n",
    "player_activity_df = spark.table(\"dev_catalog.silver.player_activity\")\n",
    "\n",
    "# Load dimension tables\n",
    "dim_game_df = spark.table(\"dev_catalog.gold.dim_game\").selectExpr(\"sk_id as sk_id_game\", \"GameID\")\n",
    "dim_activity_type_df = spark.table(\"dev_catalog.gold.dim_activity_type\").selectExpr(\"sk_id as sk_id_activity_type\", \"Activity_type\")\n",
    "dim_play_mode_df = spark.table(\"dev_catalog.gold.dim_play_mode\").selectExpr(\"sk_id as sk_id_play_mode\", \"PlayMode\")\n",
    "\n",
    "# Join dimension tables with the source table\n",
    "fact_player_activity_df = player_activity_df \\\n",
    "    .join(dim_game_df, player_activity_df.GameID == dim_game_df.GameID, \"inner\") \\\n",
    "    .join(dim_activity_type_df, player_activity_df.Activity_type == dim_activity_type_df.Activity_type, \"inner\") \\\n",
    "    .join(dim_play_mode_df, player_activity_df.PlayMode == dim_play_mode_df.PlayMode, \"inner\") \\\n",
    "    .select(player_activity_df[\"PlayerID\"], player_activity_df[\"SessionID\"], player_activity_df[\"Level\"], player_activity_df[\"ExperiencePoints\"], player_activity_df[\"AchievementUnlocked\"], player_activity_df[\"CurrencyEarned\"], player_activity_df[\"CurrencySpent\"], player_activity_df[\"QuestCompleted\"], player_activity_df[\"EnemiesDefeated\"], player_activity_df[\"ItemsCollected\"], player_activity_df[\"Deaths\"], player_activity_df[\"DistanceTravelled\"], player_activity_df[\"ChatMessagesSent\"], player_activity_df[\"TeamEventsParticipated\"], dim_game_df[\"sk_id_game\"], dim_activity_type_df[\"sk_id_activity_type\"], dim_play_mode_df[\"sk_id_play_mode\"], current_date().alias(\"insert_date\"), current_date().alias(\"update_date\"))\n",
    "\n",
    "# Create a temporary view for the fact table\n",
    "fact_player_activity_df.createOrReplaceTempView(\"temp_fact_player_activity\")\n",
    "\n",
    "# Write the fact table to the target location using SQL merge query\n",
    "query = (\"\"\"\n",
    "    MERGE INTO dev_catalog.gold.fact_player_activity AS target\n",
    "    USING temp_fact_player_activity AS source\n",
    "    ON target.PlayerID = source.PlayerID AND target.SessionID = source.SessionID\n",
    "       AND target.sk_id_game = source.sk_id_game AND target.sk_id_activity_type = source.sk_id_activity_type\n",
    "       AND target.sk_id_play_mode = source.sk_id_play_mode \n",
    "    WHEN MATCHED THEN\n",
    "        UPDATE SET \n",
    "            PlayerID = source.PlayerID,\n",
    "            SessionID = source.SessionID,\n",
    "            sk_id_game = source.sk_id_game,\n",
    "            sk_id_activity_type = source.sk_id_activity_type,\n",
    "            sk_id_play_mode = source.sk_id_play_mode,\n",
    "            Level = source.Level,\n",
    "            ExperiencePoints = source.ExperiencePoints,\n",
    "            AchievementUnlocked = source.AchievementUnlocked,\n",
    "            CurrencyEarned = source.CurrencyEarned,\n",
    "            CurrencySpent = source.CurrencySpent,\n",
    "            QuestCompleted = source.QuestCompleted,\n",
    "            EnemiesDefeated = source.EnemiesDefeated,\n",
    "            ItemsCollected = source.ItemsCollected,\n",
    "            Deaths = source.Deaths,\n",
    "            DistanceTravelled = source.DistanceTravelled,\n",
    "            ChatMessagesSent = source.ChatMessagesSent,\n",
    "            TeamEventsParticipated = source.TeamEventsParticipated,\n",
    "            update_date = source.update_date\n",
    "            \n",
    "    WHEN NOT MATCHED THEN\n",
    "        INSERT (PlayerID, SessionID, Level, ExperiencePoints, AchievementUnlocked, CurrencyEarned, CurrencySpent, QuestCompleted, EnemiesDefeated, ItemsCollected, Deaths, DistanceTravelled, ChatMessagesSent, TeamEventsParticipated, sk_id_game, sk_id_activity_type, sk_id_play_mode, insert_date, update_date)\n",
    "        VALUES (source.PlayerID, source.SessionID, source.Level, source.ExperiencePoints, source.AchievementUnlocked, source.CurrencyEarned, source.CurrencySpent, source.QuestCompleted, source.EnemiesDefeated, source.ItemsCollected, source.Deaths, source.DistanceTravelled, source.ChatMessagesSent, source.TeamEventsParticipated, source.sk_id_game, source.sk_id_activity_type, source.sk_id_play_mode, source.insert_date, source.update_date)\n",
    "\"\"\")\n",
    "\n",
    "spark.sql(query)\n",
    "\n",
    "# Display the fact table\n",
    "#display(fact_player_activity_df)"
   ]
  }
 ],
 "metadata": {
  "application/vnd.databricks.v1+notebook": {
   "computePreferences": null,
   "dashboards": [],
   "environmentMetadata": {
    "base_environment": "",
    "environment_version": "2"
   },
   "inputWidgetPreferences": null,
   "language": "python",
   "notebookMetadata": {
    "pythonIndentUnit": 4
   },
   "notebookName": "09-load-fact_player_activity-gold.py",
   "widgets": {}
  },
  "language_info": {
   "name": "python"
  }
 },
 "nbformat": 4,
 "nbformat_minor": 0
}
