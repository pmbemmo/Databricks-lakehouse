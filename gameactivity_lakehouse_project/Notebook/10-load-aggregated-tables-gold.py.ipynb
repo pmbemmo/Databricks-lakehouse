{
 "cells": [
  {
   "cell_type": "markdown",
   "metadata": {
    "application/vnd.databricks.v1+cell": {
     "cellMetadata": {
      "byteLimit": 2048000,
      "rowLimit": 10000
     },
     "inputWidgets": {},
     "nuid": "097342d6-28f1-4dbc-b9f0-eac3755d849e",
     "showTitle": false,
     "tableResultSettingsMap": {},
     "title": ""
    }
   },
   "source": [
    "# Refresh of agg_sessions_metrics"
   ]
  },
  {
   "cell_type": "code",
   "execution_count": 0,
   "metadata": {
    "application/vnd.databricks.v1+cell": {
     "cellMetadata": {
      "byteLimit": 2048000,
      "rowLimit": 10000
     },
     "inputWidgets": {},
     "nuid": "90ec4d1a-73ec-4089-88da-cea896b6d9e0",
     "showTitle": false,
     "tableResultSettingsMap": {},
     "title": ""
    }
   },
   "outputs": [],
   "source": [
    "from pyspark.sql.functions import max, sum, current_date\n",
    "\n",
    "# Create the aggregate table dev_catalog.gold.agg_sessions_metrics based on dev_catalog.gold.fact_player_activity\n",
    "\n",
    "# Load the fact_player_activity table\n",
    "fact_player_activity = spark.table(\"dev_catalog.gold.fact_player_activity\")\n",
    "\n",
    "# Perform aggregation of agg_sessions_metrics\n",
    "agg_sessions_metrics = fact_player_activity.groupBy(\"SessionID\").agg(\n",
    "    max(\"Level\").alias(\"MaxLevel\"),\n",
    "    sum(\"ExperiencePoints\").alias(\"TotalExperiencePoints\"),\n",
    "    sum(\"AchievementUnlocked\").alias(\"TotalAchievementUnlocked\"),\n",
    "    sum(\"CurrencyEarned\").alias(\"TotalCurrencyEarned\"),\n",
    "    sum(\"CurrencySpent\").alias(\"TotalCurrencySpent\"),\n",
    "    sum(\"QuestCompleted\").alias(\"TotalQuestCompleted\"),\n",
    "    sum(\"EnemiesDefeated\").alias(\"TotalEnemiesDefeated\"),\n",
    "    sum(\"ItemsCollected\").alias(\"TotalItemsCollected\"),\n",
    "    sum(\"Deaths\").alias(\"TotalDeaths\"),\n",
    "    sum(\"DistanceTravelled\").alias(\"TotalDistanceTravelled\"),\n",
    "    sum(\"ChatMessagesSent\").alias(\"TotalChatMessagesSent\"),\n",
    "    sum(\"TeamEventsParticipated\").alias(\"TotalTeamEventsParticipated\"),\n",
    "    current_date().alias(\"insert_date\"),\n",
    "    current_date().alias(\"update_date\")\n",
    ")\n",
    "\n",
    "# Create a temporary view for the aggregated data\n",
    "agg_sessions_metrics.createOrReplaceTempView(\"agg_sessions_metrics_temp\")\n",
    "\n",
    "# Use SQL merge query to update the dev_catalog.gold.agg_sessions_metrics table\n",
    "query =(\"\"\"\n",
    "MERGE INTO dev_catalog.gold.agg_sessions_metrics AS target\n",
    "USING agg_sessions_metrics_temp AS source\n",
    "ON target.SessionID = source.SessionID\n",
    "WHEN MATCHED THEN\n",
    "  UPDATE SET\n",
    "    target.MaxLevel = source.MaxLevel,\n",
    "    target.TotalExperiencePoints = source.TotalExperiencePoints,\n",
    "    target.TotalAchievementUnlocked = source.TotalAchievementUnlocked,\n",
    "    target.TotalCurrencyEarned = source.TotalCurrencyEarned,\n",
    "    target.TotalCurrencySpent = source.TotalCurrencySpent,\n",
    "    target.TotalQuestCompleted = source.TotalQuestCompleted,\n",
    "    target.TotalEnemiesDefeated = source.TotalEnemiesDefeated,\n",
    "    target.TotalItemsCollected = source.TotalItemsCollected,\n",
    "    target.TotalDeaths = source.TotalDeaths,\n",
    "    target.TotalDistanceTravelled = source.TotalDistanceTravelled,\n",
    "    target.TotalChatMessagesSent = source.TotalChatMessagesSent,\n",
    "    target.TotalTeamEventsParticipated = source.TotalTeamEventsParticipated,\n",
    "    target.update_date = source.update_date\n",
    "WHEN NOT MATCHED THEN\n",
    "  INSERT (SessionID, MaxLevel, TotalExperiencePoints, TotalAchievementUnlocked, TotalCurrencyEarned, TotalCurrencySpent, TotalQuestCompleted, TotalEnemiesDefeated, TotalItemsCollected, TotalDeaths, TotalDistanceTravelled, TotalChatMessagesSent, TotalTeamEventsParticipated, insert_date, update_date)\n",
    "  VALUES (source.SessionID, source.MaxLevel, source.TotalExperiencePoints, source.TotalAchievementUnlocked, source.TotalCurrencyEarned, source.TotalCurrencySpent, source.TotalQuestCompleted, source.TotalEnemiesDefeated, source.TotalItemsCollected, source.TotalDeaths, source.TotalDistanceTravelled, source.TotalChatMessagesSent, source.TotalTeamEventsParticipated, source.insert_date, source.update_date)\n",
    "\"\"\")\n",
    "\n",
    "spark.sql(query)\n",
    "\n",
    "# Display the result\n",
    "#display(spark.sql(\"select * from dev_catalog.gold.agg_sessions_metrics where MaxLevel is not null\").limit(10))\n",
    "\n"
   ]
  },
  {
   "cell_type": "markdown",
   "metadata": {
    "application/vnd.databricks.v1+cell": {
     "cellMetadata": {
      "byteLimit": 2048000,
      "rowLimit": 10000
     },
     "inputWidgets": {},
     "nuid": "9dfc8327-fce8-40dd-9c55-178414087105",
     "showTitle": false,
     "tableResultSettingsMap": {},
     "title": ""
    }
   },
   "source": [
    "# Refresh of agg_genre_metrics"
   ]
  },
  {
   "cell_type": "code",
   "execution_count": 0,
   "metadata": {
    "application/vnd.databricks.v1+cell": {
     "cellMetadata": {
      "byteLimit": 2048000,
      "rowLimit": 10000
     },
     "inputWidgets": {},
     "nuid": "593f199e-abaa-407d-bee3-f28cc83c3afd",
     "showTitle": false,
     "tableResultSettingsMap": {},
     "title": ""
    }
   },
   "outputs": [],
   "source": [
    "# Perform aggregation of agg_genre_metrics\n",
    "dim_game = spark.table(\"dev_catalog.gold.dim_game\").selectExpr(\"sk_id as sk_id_game_source\", \"Genre\")\n",
    "fact_player_activity_genre = fact_player_activity.join(\n",
    "    dim_game,\n",
    "    fact_player_activity.sk_id_game == dim_game.sk_id_game_source\n",
    ").groupBy(\"Genre\").agg(\n",
    "    max(\"Level\").alias(\"MaxLevel\"),\n",
    "    sum(\"ExperiencePoints\").alias(\"TotalExperiencePoints\"),\n",
    "    sum(\"AchievementUnlocked\").alias(\"TotalAchievementUnlocked\"),\n",
    "    sum(\"CurrencyEarned\").alias(\"TotalCurrencyEarned\"),\n",
    "    sum(\"CurrencySpent\").alias(\"TotalCurrencySpent\"),\n",
    "    sum(\"QuestCompleted\").alias(\"TotalQuestCompleted\"),\n",
    "    sum(\"EnemiesDefeated\").alias(\"TotalEnemiesDefeated\"),\n",
    "    sum(\"ItemsCollected\").alias(\"TotalItemsCollected\"),\n",
    "    sum(\"Deaths\").alias(\"TotalDeaths\"),\n",
    "    sum(\"DistanceTravelled\").alias(\"TotalDistanceTravelled\"),\n",
    "    sum(\"ChatMessagesSent\").alias(\"TotalChatMessagesSent\"),\n",
    "    sum(\"TeamEventsParticipated\").alias(\"TotalTeamEventsParticipated\"),\n",
    "    current_date().alias(\"insert_date\"),\n",
    "    current_date().alias(\"update_date\")\n",
    ")\n",
    "\n",
    "# Create a temporary view for the aggregated data\n",
    "fact_player_activity_genre.createOrReplaceTempView(\"agg_genre_metrics_temp\")\n",
    "\n",
    "# Use SQL merge query to update the dev_catalog.gold.agg_genre_metrics table\n",
    "query =(\"\"\"\n",
    "MERGE INTO dev_catalog.gold.agg_genre_metrics AS target\n",
    "USING agg_genre_metrics_temp AS source\n",
    "ON target.Genre = source.Genre\n",
    "WHEN MATCHED THEN\n",
    "  UPDATE SET\n",
    "    target.MaxLevel = source.MaxLevel,\n",
    "    target.TotalExperiencePoints = source.TotalExperiencePoints,\n",
    "    target.TotalAchievementUnlocked = source.TotalAchievementUnlocked,\n",
    "    target.TotalCurrencyEarned = source.TotalCurrencyEarned,\n",
    "    target.TotalCurrencySpent = source.TotalCurrencySpent,\n",
    "    target.TotalQuestCompleted = source.TotalQuestCompleted,\n",
    "    target.TotalEnemiesDefeated = source.TotalEnemiesDefeated,\n",
    "    target.TotalItemsCollected = source.TotalItemsCollected,\n",
    "    target.TotalDeaths = source.TotalDeaths,\n",
    "    target.TotalDistanceTravelled = source.TotalDistanceTravelled,\n",
    "    target.TotalChatMessagesSent = source.TotalChatMessagesSent,\n",
    "    target.TotalTeamEventsParticipated = source.TotalTeamEventsParticipated,\n",
    "    target.update_date = source.update_date\n",
    "WHEN NOT MATCHED THEN\n",
    "  INSERT (Genre, MaxLevel, TotalExperiencePoints, TotalAchievementUnlocked, TotalCurrencyEarned, TotalCurrencySpent, TotalQuestCompleted, TotalEnemiesDefeated, TotalItemsCollected, TotalDeaths, TotalDistanceTravelled, TotalChatMessagesSent, TotalTeamEventsParticipated, insert_date, update_date)\n",
    "  VALUES (source.Genre, source.MaxLevel, source.TotalExperiencePoints, source.TotalAchievementUnlocked, source.TotalCurrencyEarned, source.TotalCurrencySpent, source.TotalQuestCompleted, source.TotalEnemiesDefeated, source.TotalItemsCollected, source.TotalDeaths, source.TotalDistanceTravelled, source.TotalChatMessagesSent, source.TotalTeamEventsParticipated, source.insert_date, source.update_date)\n",
    "\"\"\")\n",
    "\n",
    "spark.sql(query)\n",
    "\n",
    "# Display the result\n",
    "#display(spark.sql(\"select * from dev_catalog.gold.agg_genre_metrics where MaxLevel is not null\").limit(10))"
   ]
  },
  {
   "cell_type": "markdown",
   "metadata": {
    "application/vnd.databricks.v1+cell": {
     "cellMetadata": {
      "byteLimit": 2048000,
      "rowLimit": 10000
     },
     "inputWidgets": {},
     "nuid": "633b4a13-8f61-449f-9b43-b7e0e78b5047",
     "showTitle": false,
     "tableResultSettingsMap": {},
     "title": ""
    }
   },
   "source": [
    "# Refresh of agg_publisher_metrics"
   ]
  },
  {
   "cell_type": "code",
   "execution_count": 0,
   "metadata": {
    "application/vnd.databricks.v1+cell": {
     "cellMetadata": {
      "byteLimit": 2048000,
      "rowLimit": 10000
     },
     "inputWidgets": {},
     "nuid": "80cbeaa7-57e7-4ed0-9cc5-4a792c768e9b",
     "showTitle": false,
     "tableResultSettingsMap": {},
     "title": ""
    }
   },
   "outputs": [],
   "source": [
    "# Perform aggregation of agg_publisher_metrics\n",
    "dim_publisher = spark.sql(\n",
    "    \"\"\"\n",
    "    SELECT DISTINCT \n",
    "        a.sk_id AS sk_id_game_source, \n",
    "        b.Publisher \n",
    "    FROM dev_catalog.gold.dim_publisher b \n",
    "    JOIN dev_catalog.gold.dim_game a \n",
    "    ON a.SK_ID_Publisher = b.sk_id\n",
    "    \"\"\"\n",
    ")\n",
    "\n",
    "fact_player_activity_publisher = fact_player_activity.join(\n",
    "    dim_publisher,\n",
    "    fact_player_activity.sk_id_game == dim_publisher.sk_id_game_source\n",
    ").groupBy(\"Publisher\").agg(\n",
    "    max(\"Level\").alias(\"MaxLevel\"),\n",
    "    sum(\"ExperiencePoints\").alias(\"TotalExperiencePoints\"),\n",
    "    sum(\"AchievementUnlocked\").alias(\"TotalAchievementUnlocked\"),\n",
    "    sum(\"CurrencyEarned\").alias(\"TotalCurrencyEarned\"),\n",
    "    sum(\"CurrencySpent\").alias(\"TotalCurrencySpent\"),\n",
    "    sum(\"QuestCompleted\").alias(\"TotalQuestCompleted\"),\n",
    "    sum(\"EnemiesDefeated\").alias(\"TotalEnemiesDefeated\"),\n",
    "    sum(\"ItemsCollected\").alias(\"TotalItemsCollected\"),\n",
    "    sum(\"Deaths\").alias(\"TotalDeaths\"),\n",
    "    sum(\"DistanceTravelled\").alias(\"TotalDistanceTravelled\"),\n",
    "    sum(\"ChatMessagesSent\").alias(\"TotalChatMessagesSent\"),\n",
    "    sum(\"TeamEventsParticipated\").alias(\"TotalTeamEventsParticipated\"),\n",
    "    current_date().alias(\"insert_date\"),\n",
    "    current_date().alias(\"update_date\")\n",
    ")\n",
    "\n",
    "# Create a temporary view for the aggregated data\n",
    "fact_player_activity_publisher.createOrReplaceTempView(\"agg_publisher_metrics_temp\")\n",
    "\n",
    "# Use SQL merge query to update the dev_catalog.gold.agg_publisher_metrics table\n",
    "query =(\"\"\"\n",
    "MERGE INTO dev_catalog.gold.agg_publisher_metrics AS target\n",
    "USING agg_publisher_metrics_temp AS source\n",
    "ON target.Publisher = source.Publisher\n",
    "WHEN MATCHED THEN\n",
    "  UPDATE SET\n",
    "    target.MaxLevel = source.MaxLevel,\n",
    "    target.TotalExperiencePoints = source.TotalExperiencePoints,\n",
    "    target.TotalAchievementUnlocked = source.TotalAchievementUnlocked,\n",
    "    target.TotalCurrencyEarned = source.TotalCurrencyEarned,\n",
    "    target.TotalCurrencySpent = source.TotalCurrencySpent,\n",
    "    target.TotalQuestCompleted = source.TotalQuestCompleted,\n",
    "    target.TotalEnemiesDefeated = source.TotalEnemiesDefeated,\n",
    "    target.TotalItemsCollected = source.TotalItemsCollected,\n",
    "    target.TotalDeaths = source.TotalDeaths,\n",
    "    target.TotalDistanceTravelled = source.TotalDistanceTravelled,\n",
    "    target.TotalChatMessagesSent = source.TotalChatMessagesSent,\n",
    "    target.TotalTeamEventsParticipated = source.TotalTeamEventsParticipated,\n",
    "    target.update_date = source.update_date\n",
    "WHEN NOT MATCHED THEN\n",
    "  INSERT (Publisher, MaxLevel, TotalExperiencePoints, TotalAchievementUnlocked, TotalCurrencyEarned, TotalCurrencySpent, TotalQuestCompleted, TotalEnemiesDefeated, TotalItemsCollected, TotalDeaths, TotalDistanceTravelled, TotalChatMessagesSent, TotalTeamEventsParticipated, insert_date, update_date)\n",
    "  VALUES (source.Publisher, source.MaxLevel, source.TotalExperiencePoints, source.TotalAchievementUnlocked, source.TotalCurrencyEarned, source.TotalCurrencySpent, source.TotalQuestCompleted, source.TotalEnemiesDefeated, source.TotalItemsCollected, source.TotalDeaths, source.TotalDistanceTravelled, source.TotalChatMessagesSent, source.TotalTeamEventsParticipated, source.insert_date, source.update_date)\n",
    "\"\"\")\n",
    "\n",
    "spark.sql(query)\n",
    "\n",
    "# Display the result\n",
    "#display(spark.sql(\"SELECT * FROM dev_catalog.gold.agg_publisher_metrics WHERE MaxLevel IS NOT NULL LIMIT 10\"))"
   ]
  }
 ],
 "metadata": {
  "application/vnd.databricks.v1+notebook": {
   "computePreferences": null,
   "dashboards": [],
   "environmentMetadata": {
    "base_environment": "",
    "environment_version": "2"
   },
   "inputWidgetPreferences": null,
   "language": "python",
   "notebookMetadata": {
    "mostRecentlyExecutedCommandWithImplicitDF": {
     "commandId": 1668528757499567,
     "dataframes": [
      "_sqldf"
     ]
    },
    "pythonIndentUnit": 4
   },
   "notebookName": "10-load-aggregated-tables-gold.py",
   "widgets": {}
  },
  "language_info": {
   "name": "python"
  }
 },
 "nbformat": 4,
 "nbformat_minor": 0
}
