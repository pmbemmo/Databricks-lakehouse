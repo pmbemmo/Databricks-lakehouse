{
 "cells": [
  {
   "cell_type": "code",
   "execution_count": 0,
   "metadata": {
    "application/vnd.databricks.v1+cell": {
     "cellMetadata": {
      "byteLimit": 2048000,
      "rowLimit": 10000
     },
     "inputWidgets": {},
     "nuid": "41c59176-f73f-4416-95a9-5ed48795dd7a",
     "showTitle": false,
     "tableResultSettingsMap": {},
     "title": ""
    }
   },
   "outputs": [],
   "source": [
    "#requirements packages\n",
    "%pip install faker\n",
    "dbutils.library.restartPython()"
   ]
  },
  {
   "cell_type": "code",
   "execution_count": 0,
   "metadata": {
    "application/vnd.databricks.v1+cell": {
     "cellMetadata": {
      "byteLimit": 2048000,
      "rowLimit": 10000
     },
     "inputWidgets": {},
     "nuid": "08dcf66f-7257-40aa-8207-a2332cb4db3c",
     "showTitle": false,
     "tableResultSettingsMap": {},
     "title": ""
    }
   },
   "outputs": [],
   "source": [
    "# %python \n",
    "\n",
    "from faker import Faker\n",
    "import random\n",
    "import datetime\n",
    "import json\n",
    "import os\n",
    "\n",
    "catalog_name = \"dev_catalog\"\n",
    "schema_name = \"default\"\n",
    "\n",
    "spark.sql(f\"USE CATALOG {catalog_name}\")\n",
    "spark.sql(f\"USE SCHEMA {schema_name}\")\n",
    "\n",
    "def game_info(n: int , fake: Faker) -> list:\n",
    "    publisher = [\n",
    "        'Electronic Arts','Activity Brain','Ubisoft','THQ','Take-Two Interactive','Nintendo','Sony Interactive Entertainment','Microsoft Game Studios','Rockstar Games','Square Enix','Capcom','Bethesda Softworks','Valve','Focus Home Interactive','Kalypso Media','Treyarch','Infinity Ward','BioWare','Paradox Interactive','Bandai Namco Entertainment','Konami','2K Games'\n",
    "    ]\n",
    "    game_info = []\n",
    "    for i in range(n):\n",
    "        game = {\n",
    "            \"GameID\": fake.uuid4(),\n",
    "            \"Publisher\": random.choice(publisher),\n",
    "            \"Rating\": fake.random_element(elements=['E', 'E10+', 'T', 'M', 'AO', 'RP']),\n",
    "            \"Genre\": fake.random_element(elements=['Action', 'Adventure', 'Simulation', 'Strategy', 'RPG', 'Shooter', 'Sports', 'Racing', 'Puzzle', 'Other']),\n",
    "            \"Game_Length\" : fake.random_int(min=10, max=100),\n",
    "            \"Game_release_date\" : fake.date_between(start_date='-10y', end_date='now').strftime(\"%Y-%m-%d\")\n",
    "        }\n",
    "        game_info.append(game)\n",
    "    return game_info\n",
    "\n",
    "def game_player_activity(n: int, game_ids: list, fake: Faker) -> list:\n",
    "    player_activity = []\n",
    "    for i in range(n):\n",
    "        start_time = fake.date_time_between(start_date='-2m', end_date='now')\n",
    "        end_time = fake.date_time_between(start_date=start_time, end_date='now').strftime(\"%Y-%m-%d %H:%M:%S\")\n",
    "        start_time = start_time.strftime(\"%Y-%m-%d %H:%M:%S\")\n",
    "        activity = {\n",
    "            \"PlayerID\": fake.uuid4(),\n",
    "            \"GameID\": random.choice(game_ids),\n",
    "            \"SessionID\": fake.uuid4(),\n",
    "            \"Activity_type\": fake.random_element(elements=['Play', 'Pause', 'Quit', 'Resume', 'Skip', 'Other','In-queue', 'Watch-trailer', 'Watch-video', 'Watch-ad']),\n",
    "            \"Level\": fake.random_int(min=1, max=10),\n",
    "            \"ExperiencePoints\": float(fake.random_int(min=100, max=100000)),\n",
    "            \"AchievementUnlocked\": fake.random_int(min=0, max=10),\n",
    "            \"CurrencyEarned\": fake.pyfloat(left_digits=6, right_digits=2, positive=True),\n",
    "            \"CurrencySpent\": fake.pyfloat(left_digits=6, right_digits=2, positive=True),\n",
    "            \"QuestCompleted\": fake.random_int(min=0, max=100),\n",
    "            \"EnemiesDefeated\": fake.random_int(min=0, max=100),\n",
    "            \"ItemsCollected\": fake.random_int(min=0, max=100),\n",
    "            \"Deaths\": fake.random_int(min=0, max=10),\n",
    "            \"DistanceTravelled\": fake.random_int(min=100, max=100000),\n",
    "            \"ChatMessagesSent\": fake.random_int(min=0, max=100),\n",
    "            \"TeamEventsParticipated\": fake.random_int(min=0, max=10),\n",
    "            \"PlayMode\": fake.random_element(elements=['Singleplayer', 'Multiplayer', 'Co-op', 'Online Co-op', 'Online Multiplayer', 'Online Co-op', 'Online Multiplayer', 'Online Co-op', 'Online'])\n",
    "        }\n",
    "        player_activity.append(activity)\n",
    "    return player_activity\n",
    "\n",
    "def upload_json_to_landingzone(destination_path: str, filename: str, data: list):\n",
    "    generated_json = json.dumps(data, indent=4)\n",
    "    full_path = os.path.join(destination_path, filename)\n",
    "    dbutils.fs.put(full_path, generated_json, overwrite=True)\n",
    "\n",
    "def main():\n",
    "    num_games = 10\n",
    "    num_player_activity = 10000\n",
    "\n",
    "    fake = Faker()\n",
    "    games = game_info(num_games, fake)\n",
    "    game_player_activities = game_player_activity(num_player_activity, [game['GameID'] for game in games], fake)\n",
    "\n",
    "    destination_path = f'dbfs:/Volumes/{catalog_name}/{schema_name}/landing_zone/game_analytics'\n",
    "    game_filename = f\"Game/{datetime.datetime.now().strftime('%Y-%m-%d')}/games_{datetime.datetime.now().strftime('%Y-%m-%d-%H-%M-%S')}.json\"\n",
    "    player_activity_filename = f\"PlayerActivity/{datetime.datetime.now().strftime('%Y-%m-%d')}/player_activity_{datetime.datetime.now().strftime('%Y-%m-%d-%H-%M-%S')}.json\"\n",
    "\n",
    "    upload_json_to_landingzone(destination_path, game_filename, games)\n",
    "    upload_json_to_landingzone(destination_path, player_activity_filename, game_player_activities)\n",
    "\n",
    "main()"
   ]
  }
 ],
 "metadata": {
  "application/vnd.databricks.v1+notebook": {
   "computePreferences": null,
   "dashboards": [],
   "environmentMetadata": {
    "base_environment": "",
    "environment_version": "2"
   },
   "language": "python",
   "notebookMetadata": {
    "mostRecentlyExecutedCommandWithImplicitDF": {
     "commandId": 1139799647275306,
     "dataframes": [
      "_sqldf"
     ]
    },
    "pythonIndentUnit": 4
   },
   "notebookName": "data-generator.py",
   "widgets": {}
  },
  "language_info": {
   "name": "python"
  }
 },
 "nbformat": 4,
 "nbformat_minor": 0
}
