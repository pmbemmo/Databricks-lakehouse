{
 "cells": [
  {
   "cell_type": "code",
   "execution_count": 0,
   "metadata": {
    "application/vnd.databricks.v1+cell": {
     "cellMetadata": {
      "byteLimit": 2048000,
      "rowLimit": 10000
     },
     "inputWidgets": {},
     "nuid": "fb177d14-e82f-4ca5-8da5-3fa88aa72533",
     "showTitle": false,
     "tableResultSettingsMap": {},
     "title": ""
    }
   },
   "outputs": [],
   "source": [
    "%sh\n",
    "export PYSPARK_PYTHON=python3.11"
   ]
  },
  {
   "cell_type": "code",
   "execution_count": 0,
   "metadata": {
    "application/vnd.databricks.v1+cell": {
     "cellMetadata": {
      "byteLimit": 2048000,
      "rowLimit": 10000
     },
     "inputWidgets": {},
     "nuid": "3257c3fb-ec7a-4ca0-9152-02dad36eebcf",
     "showTitle": false,
     "tableResultSettingsMap": {},
     "title": ""
    }
   },
   "outputs": [],
   "source": [
    "# Databricks Notebook - Load JSON Files into Bronze Layer and Delete Source Files\n",
    "\n",
    "from pyspark.sql.functions import current_timestamp, input_file_name,col\n",
    "from pyspark.sql.types import StructType\n",
    "from delta.tables import DeltaTable\n",
    "import os,json\n",
    "\n",
    "# 🏗️ Step 1: Define Parameters\n",
    "dbutils.widgets.text(\"file_path\", \"/Volumes/dev_catalog/default/landing_zone/game_analytics/Game/*\")\n",
    "dbutils.widgets.text(\"bronze_table_name\", \"game\")\n",
    "\n",
    "file_path = dbutils.widgets.get(\"file_path\")  # Directory where JSON files are stored\n",
    "file_name = dbutils.widgets.get(\"file_name\")  # Specific file (optional)\n",
    "bronze_table_name = dbutils.widgets.get(\"bronze_table_name\")\n",
    "\n",
    "# 📂 Construct full JSON path (single file or all files in the directory)\n",
    "json_source_path = os.path.join(file_path, file_name)\n",
    "\n",
    "# 🏗️ Step 2: Define Delta Table Metadata\n",
    "catalog_name = \"dev_catalog\"\n",
    "schema_name = \"bronze\"\n",
    "bronze_table_path = f\"{catalog_name}.{schema_name}.{bronze_table_name}\"\n",
    "\n",
    "# 📌 Set Active Catalog & Schema\n",
    "spark.sql(f\"USE CATALOG {catalog_name} ;\")\n",
    "spark.sql(f\"USE SCHEMA {schema_name} ;\")\n",
    "\n",
    "# 🏗️ Step 3: Read JSON Files into DataFrame and create the table\n",
    "\n",
    "# Define the expected JSON structure\n",
    "if bronze_table_name == \"game\":\n",
    "    schema_json = \"\"\"\n",
    "    {\n",
    "        \"type\": \"struct\",\n",
    "        \"fields\": [\n",
    "            {\"name\": \"GameID\", \"type\": \"string\", \"nullable\": true},\n",
    "            {\"name\": \"Publisher\", \"type\": \"string\", \"nullable\": true},\n",
    "            {\"name\": \"Rating\", \"type\": \"string\", \"nullable\": true},\n",
    "            {\"name\": \"Genre\", \"type\": \"string\", \"nullable\": true},\n",
    "            {\"name\": \"Game_Length\", \"type\": \"integer\", \"nullable\": true},\n",
    "            {\"name\": \"Game_release_date\", \"type\": \"date\", \"nullable\": true}\n",
    "        ]\n",
    "    }\n",
    "    \"\"\"\n",
    "\n",
    "elif bronze_table_name == \"player_activity\":\n",
    "    schema_json = \"\"\"\n",
    "    {\n",
    "        \"type\": \"struct\",\n",
    "        \"fields\": [\n",
    "            {\"name\": \"PlayerID\", \"type\": \"string\", \"nullable\": true},\n",
    "            {\"name\": \"GameID\", \"type\": \"string\", \"nullable\": true},\n",
    "            {\"name\": \"SessionID\", \"type\": \"string\", \"nullable\": true},\n",
    "            {\"name\": \"Activity_type\", \"type\": \"string\", \"nullable\": true},\n",
    "            {\"name\": \"Level\", \"type\": \"integer\", \"nullable\": true},\n",
    "            {\"name\": \"ExperiencePoints\", \"type\": \"float\", \"nullable\": true},\n",
    "            {\"name\": \"AchievementUnlocked\", \"type\": \"integer\", \"nullable\": true},\n",
    "            {\"name\": \"CurrencyEarned\", \"type\": \"float\", \"nullable\": true},\n",
    "            {\"name\": \"CurrencySpent\", \"type\": \"float\", \"nullable\": true},\n",
    "            {\"name\": \"QuestCompleted\", \"type\": \"integer\", \"nullable\": true},\n",
    "            {\"name\": \"EnemiesDefeated\", \"type\": \"integer\", \"nullable\": true},\n",
    "            {\"name\": \"ItemsCollected\", \"type\": \"integer\", \"nullable\": true},\n",
    "            {\"name\": \"Deaths\", \"type\": \"integer\", \"nullable\": true},\n",
    "            {\"name\": \"DistanceTravelled\", \"type\": \"float\", \"nullable\": true},\n",
    "            {\"name\": \"ChatMessagesSent\", \"type\": \"integer\", \"nullable\": true},\n",
    "            {\"name\": \"TeamEventsParticipated\", \"type\": \"integer\", \"nullable\": true},\n",
    "            {\"name\": \"PlayMode\", \"type\": \"string\", \"nullable\": true}\n",
    "        ]\n",
    "    }\n",
    "    \"\"\"\n",
    "\n",
    "else:\n",
    "    raise ValueError(f\"❌ Unknown JSON Schema of the bronze_table_name: {bronze_table_name}\")\n",
    "\n",
    "# Convert JSON schema string to StructType\n",
    "schema_dict = json.loads(schema_json)  # Convert JSON string to dictionary\n",
    "schema = StructType.fromJson(schema_dict)  # Convert dictionary to Spark StructType\n",
    "\n",
    "# Read JSON using schema\n",
    "df = (\n",
    "    spark.read\n",
    "    .option(\"multiline\", \"true\")  # Support multi-line JSON\n",
    "    .option(\"recursiveFileLookup\", \"true\")\n",
    "    .schema(schema)  # Apply defined schema\n",
    "    .json(json_source_path)  # Read JSON file\n",
    "    .withColumn(\"source_file\", col(\"_metadata.file_path\"))  # Track file origin\n",
    "    .withColumn(\"dt_insert\", current_timestamp())  # Track date of insert\n",
    ")\n",
    "\n",
    "if df.count() == 0:\n",
    "    print(f\"❌ No data found in {json_source_path}\")\n",
    "else:\n",
    "    df.write.format(\"delta\").mode(\"overwrite\").saveAsTable(bronze_table_path)\n",
    "    # 🏗️ Step 6: Delete JSON Files After Successful Load\n",
    "    if file_name:\n",
    "        # Delete single file\n",
    "        dbutils.fs.rm(json_source_path, True)\n",
    "        print(f\"🗑️ Deleted file: {json_source_path}\")\n",
    "    else:\n",
    "        # Delete all files in the directory\n",
    "        files = dbutils.fs.ls(file_path)\n",
    "        for file in files:\n",
    "            dbutils.fs.rm(file.path, True)\n",
    "            print(f\"🗑️ Deleted files in the folder: {file.path}\")\n",
    "\n",
    "# 🏗️ Step 7: Verify Data\n",
    "# display(spark.table(bronze_table_path))"
   ]
  },
  {
   "cell_type": "code",
   "execution_count": 0,
   "metadata": {
    "application/vnd.databricks.v1+cell": {
     "cellMetadata": {
      "byteLimit": 2048000,
      "rowLimit": 10000
     },
     "inputWidgets": {},
     "nuid": "ba1ad223-dc1f-4a9c-9eca-d348a26a0b26",
     "showTitle": false,
     "tableResultSettingsMap": {},
     "title": ""
    }
   },
   "outputs": [],
   "source": []
  }
 ],
 "metadata": {
  "application/vnd.databricks.v1+notebook": {
   "computePreferences": null,
   "dashboards": [],
   "environmentMetadata": {
    "base_environment": "",
    "environment_version": "2"
   },
   "language": "python",
   "notebookMetadata": {
    "mostRecentlyExecutedCommandWithImplicitDF": {
     "commandId": 1139799647275307,
     "dataframes": [
      "_sqldf"
     ]
    },
    "pythonIndentUnit": 4
   },
   "notebookName": "ingest-json-to-bronze.py",
   "widgets": {
    "bronze_table_name": {
     "currentValue": "player_activity",
     "nuid": "c1aa5f29-aaef-4216-b6c9-7e483deb964e",
     "typedWidgetInfo": {
      "autoCreated": false,
      "defaultValue": "game",
      "label": null,
      "name": "bronze_table_name",
      "options": {
       "widgetDisplayType": "Text",
       "validationRegex": null
      },
      "parameterDataType": "String"
     },
     "widgetInfo": {
      "widgetType": "text",
      "defaultValue": "game",
      "label": null,
      "name": "bronze_table_name",
      "options": {
       "widgetType": "text",
       "autoCreated": null,
       "validationRegex": null
      }
     }
    },
    "file_path": {
     "currentValue": "/Volumes/dev_catalog/default/landing_zone/game_analytics/PlayerActivity",
     "nuid": "1f188887-c1f3-4336-b1ea-6c913369a6c0",
     "typedWidgetInfo": {
      "autoCreated": false,
      "defaultValue": "/Volumes/dev_catalog/default/landing_zone/game_analytics/Game/*",
      "label": null,
      "name": "file_path",
      "options": {
       "widgetDisplayType": "Text",
       "validationRegex": null
      },
      "parameterDataType": "String"
     },
     "widgetInfo": {
      "widgetType": "text",
      "defaultValue": "/Volumes/dev_catalog/default/landing_zone/game_analytics/Game/*",
      "label": null,
      "name": "file_path",
      "options": {
       "widgetType": "text",
       "autoCreated": null,
       "validationRegex": null
      }
     }
    }
   }
  },
  "language_info": {
   "name": "python"
  }
 },
 "nbformat": 4,
 "nbformat_minor": 0
}
