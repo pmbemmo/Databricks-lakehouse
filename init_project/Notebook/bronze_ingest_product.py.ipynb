{
 "cells": [
  {
   "cell_type": "code",
   "execution_count": 0,
   "metadata": {
    "application/vnd.databricks.v1+cell": {
     "cellMetadata": {
      "byteLimit": 2048000,
      "rowLimit": 10000
     },
     "inputWidgets": {},
     "nuid": "bbc9f0be-06af-4a2b-8f0e-5e14c5ee8dc5",
     "showTitle": false,
     "tableResultSettingsMap": {},
     "title": ""
    }
   },
   "outputs": [],
   "source": [
    "from pyspark.sql.functions import current_timestamp,lit\n",
    "\n",
    "# Chemin source des données brutes\n",
    "raw_data_path = \"/Volumes/dev_catalog/default/landing_zone/products.csv\" \n",
    "\n",
    "# Lecture des fichiers CSV avec Auto Loader (gère les nouvelles arrivées)\n",
    "bronze_df = spark.read\\\n",
    "                .option(\"header\", \"true\")\\\n",
    "                .option(\"inferSchema\", \"true\")\\\n",
    "                .option(\"sep\", \",\")\\\n",
    "                .csv(raw_data_path)\n",
    "\n",
    "\n",
    "# Écriture en Delta Lake (Bronze Table)\n",
    "bronze_table = \"dev_catalog.bronze.products\"\n",
    "\n",
    "bronze_df.write \\\n",
    "    .format(\"delta\") \\\n",
    "    .mode(\"append\") \\\n",
    "    .saveAsTable(bronze_table)\n"
   ]
  },
  {
   "cell_type": "code",
   "execution_count": 0,
   "metadata": {
    "application/vnd.databricks.v1+cell": {
     "cellMetadata": {
      "byteLimit": 2048000,
      "rowLimit": 10000
     },
     "inputWidgets": {},
     "nuid": "d94970ee-3c45-4bdc-b4f8-576165472d34",
     "showTitle": false,
     "tableResultSettingsMap": {},
     "title": ""
    }
   },
   "outputs": [],
   "source": [
    "raw_data_path"
   ]
  }
 ],
 "metadata": {
  "application/vnd.databricks.v1+notebook": {
   "computePreferences": null,
   "dashboards": [],
   "environmentMetadata": {
    "base_environment": "",
    "environment_version": "2"
   },
   "language": "python",
   "notebookMetadata": {
    "pythonIndentUnit": 4
   },
   "notebookName": "bronze_ingest_product.py",
   "widgets": {}
  },
  "language_info": {
   "name": "python"
  }
 },
 "nbformat": 4,
 "nbformat_minor": 0
}
