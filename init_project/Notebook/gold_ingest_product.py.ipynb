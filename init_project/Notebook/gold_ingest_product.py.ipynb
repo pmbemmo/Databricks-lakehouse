{
 "cells": [
  {
   "cell_type": "code",
   "execution_count": 0,
   "metadata": {
    "application/vnd.databricks.v1+cell": {
     "cellMetadata": {
      "byteLimit": 2048000,
      "rowLimit": 10000
     },
     "inputWidgets": {},
     "nuid": "3c0a7d3f-f285-4237-a9f6-44f30ef8bd4d",
     "showTitle": false,
     "tableResultSettingsMap": {},
     "title": ""
    }
   },
   "outputs": [],
   "source": [
    "from pyspark.sql.functions import sum, count, avg, month, countDistinct, col\n",
    "\n",
    "# Lecture des données Silver\n",
    "gold_df = (\n",
    "    spark.read.format(\"delta\").table(\"dev_catalog.silver.products\")\n",
    "    .groupBy(\"Category\")\n",
    "    .agg(\n",
    "        countDistinct(\"ProductID\").alias(\"total_products\"),\n",
    "        sum(col(\"ListPrice\")).alias(\"total_Price\"),\n",
    "        avg(col(\"ListPrice\")).alias(\"avg_Price\")\n",
    "    )\n",
    ")\n",
    "\n",
    "# Écriture en Gold avec partitionnement\n",
    "gold_table = \"dev_catalog.gold.products\"\n",
    "\n",
    "gold_df.write.format(\"delta\") \\\n",
    "    .mode(\"overwrite\") \\\n",
    "    .partitionBy(\"Category\") \\\n",
    "    .saveAsTable(gold_table)\n",
    "\n"
   ]
  },
  {
   "cell_type": "code",
   "execution_count": 0,
   "metadata": {
    "application/vnd.databricks.v1+cell": {
     "cellMetadata": {
      "byteLimit": 2048000,
      "implicitDf": true,
      "rowLimit": 10000
     },
     "inputWidgets": {},
     "nuid": "d7a71d2b-28ec-41ab-b428-d29aba61b5d3",
     "showTitle": false,
     "tableResultSettingsMap": {},
     "title": ""
    }
   },
   "outputs": [],
   "source": [
    "%sql\n",
    "use catalog `dev_catalog`; select * from `gold`.`products` limit 100;"
   ]
  }
 ],
 "metadata": {
  "application/vnd.databricks.v1+notebook": {
   "computePreferences": null,
   "dashboards": [],
   "environmentMetadata": {
    "base_environment": "",
    "environment_version": "2"
   },
   "inputWidgetPreferences": null,
   "language": "python",
   "notebookMetadata": {
    "mostRecentlyExecutedCommandWithImplicitDF": {
     "commandId": 1099599946750972,
     "dataframes": [
      "_sqldf"
     ]
    },
    "pythonIndentUnit": 4
   },
   "notebookName": "gold_ingest_product.py",
   "widgets": {}
  },
  "language_info": {
   "name": "python"
  }
 },
 "nbformat": 4,
 "nbformat_minor": 0
}
