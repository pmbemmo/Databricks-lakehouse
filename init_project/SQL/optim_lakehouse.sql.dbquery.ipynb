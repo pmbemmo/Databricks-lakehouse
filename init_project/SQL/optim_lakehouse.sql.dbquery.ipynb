{
 "cells": [
  {
   "cell_type": "code",
   "execution_count": 0,
   "metadata": {
    "application/vnd.databricks.v1+cell": {
     "cellMetadata": {},
     "inputWidgets": {},
     "nuid": "967a6676-1ca7-4453-999f-494e65399365",
     "showTitle": false,
     "tableResultSettingsMap": {},
     "title": ""
    }
   },
   "outputs": [],
   "source": [
    "-- Compactage pour améliorer la lecture\n",
    "OPTIMIZE dev_catalog.silver.products ZORDER BY ProductID;\n",
    "\n",
    "\n",
    "-- Suppression des anciens fichiers non référencés (après 7 jours)\n",
    "VACUUM dev_catalog.bronze.products RETAIN 168 HOURS;\n",
    "VACUUM dev_catalog.silver.products RETAIN 168 HOURS;\n",
    "VACUUM dev_catalog.gold.products RETAIN 168 HOURS;\n"
   ]
  }
 ],
 "metadata": {
  "application/vnd.databricks.v1+notebook": {
   "computePreferences": null,
   "dashboards": [],
   "environmentMetadata": null,
   "inputWidgetPreferences": null,
   "language": "sql",
   "notebookMetadata": {
    "sqlQueryOptions": {
     "applyAutoLimit": true,
     "catalog": "workspace",
     "schema": "default"
    }
   },
   "notebookName": "optim_lakehouse.sql.dbquery.ipynb",
   "widgets": {}
  },
  "language_info": {
   "name": "sql"
  }
 },
 "nbformat": 4,
 "nbformat_minor": 0
}
